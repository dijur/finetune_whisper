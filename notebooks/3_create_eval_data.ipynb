{
 "cells": [
  {
   "cell_type": "code",
   "execution_count": 20,
   "metadata": {},
   "outputs": [],
   "source": [
    "from whisper_tune.utils import get_project_root\n",
    "import random\n",
    "from typing import List, Dict\n",
    "import os\n",
    "import json"
   ]
  },
  {
   "cell_type": "code",
   "execution_count": 5,
   "metadata": {},
   "outputs": [
    {
     "name": "stdout",
     "output_type": "stream",
     "text": [
      "Training sample size: 32000\n",
      "All sample size: 2153530\n"
     ]
    }
   ],
   "source": [
    "training_sample = get_project_root() / \"data/sampled_corpus.txt\"\n",
    "all_sample = get_project_root() / \"data/final_filtered_newest.txt\"\n",
    "\n",
    "with open(training_sample, \"r\") as f:\n",
    "    training_lines = f.readlines()\n",
    "with open(all_sample, \"r\") as f:\n",
    "    all_lines = f.readlines()\n",
    "\n",
    "print(f\"Training sample size: {len(training_lines)}\")\n",
    "print(f\"All sample size: {len(all_lines)}\")"
   ]
  },
  {
   "cell_type": "code",
   "execution_count": 16,
   "metadata": {},
   "outputs": [
    {
     "name": "stdout",
     "output_type": "stream",
     "text": [
      "Sampled lines size: 100\n"
     ]
    }
   ],
   "source": [
    "random.seed(42)\n",
    "sampled_lines = []\n",
    "while len(sampled_lines) < 100:\n",
    "    if not all_lines:\n",
    "        break\n",
    "    idx = random.randrange(len(all_lines))\n",
    "    line = all_lines.pop(idx)\n",
    "    if line not in training_lines:\n",
    "        sampled_lines.append(line)\n",
    "print(f\"Sampled lines size: {len(sampled_lines)}\")"
   ]
  },
  {
   "cell_type": "code",
   "execution_count": 17,
   "metadata": {},
   "outputs": [
    {
     "data": {
      "text/plain": [
       "['ин коро имсол онхо худашон ичро менамоянд \\n',\n",
       " 'ана ҳамин тоҷикписар дар ҷӯшу хурӯши ҷанг коре кардааст бебаҳо раҳмон сафар ман истода ба чашмонам дида медӯзад \\n',\n",
       " 'бекорӣ дар ҳавзаи евро ба ҳадди рекордӣ расид бекорӣ дар кишвари ҳавзаи евро ба ҳадде расидааст ки то кунун мушоҳида нашуда буд \\n',\n",
       " 'аз пашша фил сози хуб нест \\n',\n",
       " 'чунин баъдтар дар нимаи дувв асри хх ва ибтидои асри хх дар зери таъсири матлуби илм ва фарҳанги ҷаҳонӣ дар шаҳрҳои тошканду самарқанд бухоро пайдо шуданд \\n',\n",
       " 'мехостам фаҳмам ки вақте ягон чизи медузданд ин ягон хубӣ дорад ё на \\n',\n",
       " 'зеро созмони растохез ҳамеша барои ҳадафҳои миллӣ демократӣ ва озодихоҳӣ мубориза мебурд на барои мансабу ҷоҳу ҷалол \\n',\n",
       " 'дар рафти сафари мазкур раиси суди тоикистон мамудов ма аз суди конститутсионии замини берлин низ дидан намуда бо раис ва судяои он мулоот намуд \\n',\n",
       " 'хеле душвор астгуфт ин узви ҳизби коммунист \\n',\n",
       " 'ба қавли мардум ин ҳамон обро лой кардану моҳӣ гирифтан аст ки дар ин ҷо манфиати танҳо шахс дар назар аст на ҷомеаву мардум \\n']"
      ]
     },
     "execution_count": 17,
     "metadata": {},
     "output_type": "execute_result"
    }
   ],
   "source": [
    "sampled_lines[0:10]"
   ]
  },
  {
   "cell_type": "code",
   "execution_count": 22,
   "metadata": {},
   "outputs": [],
   "source": [
    "def create_metadata(\n",
    "    sentences: List[str],\n",
    "    output_json: str,\n",
    "    output_audio_dir: str,\n",
    "    filename_prefix: str = \"human_recording\"\n",
    "):\n",
    "    os.makedirs(output_audio_dir, exist_ok=True)\n",
    "    metadata = []\n",
    "\n",
    "    for idx, text in enumerate(sentences):\n",
    "        audio_path = os.path.join(output_audio_dir, f\"{filename_prefix}_{idx:06d}.wav\")\n",
    "        metadata.append({\n",
    "            \"audio_path\": audio_path,\n",
    "            \"text\": text,\n",
    "            \"duration\": None\n",
    "        })\n",
    "\n",
    "    with open(output_json, 'w', encoding='utf-8') as f:\n",
    "        for entry in metadata:\n",
    "            f.write(json.dumps(entry, ensure_ascii=False) + '\\n')\n",
    "\n",
    "    print(f\"Created metadata for {len(sentences)} sentences at {output_json}\")\n",
    "    return metadata\n"
   ]
  },
  {
   "cell_type": "code",
   "execution_count": 23,
   "metadata": {},
   "outputs": [
    {
     "name": "stdout",
     "output_type": "stream",
     "text": [
      "Created metadata for 100 sentences at /Users/djuraev/0_git/whisper_tune/data/holdout/metadata.json\n"
     ]
    }
   ],
   "source": [
    "metadata = create_metadata(\n",
    "    sampled_lines,\n",
    "    output_json=get_project_root() / \"data/holdout/metadata.json\",\n",
    "    output_audio_dir=get_project_root() / \"data/holdout/audio\",\n",
    "    filename_prefix=\"human_recording\"\n",
    ")"
   ]
  }
 ],
 "metadata": {
  "kernelspec": {
   "display_name": "whisper-tune-GeidTQlu-py3.11",
   "language": "python",
   "name": "python3"
  },
  "language_info": {
   "codemirror_mode": {
    "name": "ipython",
    "version": 3
   },
   "file_extension": ".py",
   "mimetype": "text/x-python",
   "name": "python",
   "nbconvert_exporter": "python",
   "pygments_lexer": "ipython3",
   "version": "3.11.11"
  }
 },
 "nbformat": 4,
 "nbformat_minor": 2
}
